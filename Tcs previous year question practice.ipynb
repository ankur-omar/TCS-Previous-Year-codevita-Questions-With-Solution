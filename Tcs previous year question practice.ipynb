{
 "cells": [
  {
   "cell_type": "markdown",
   "metadata": {},
   "source": [
    "# consecutive sum of prime numbers"
   ]
  },
  {
   "cell_type": "markdown",
   "metadata": {},
   "source": [
    "# \n",
    "Some prime numbers can be expressed as a sum of other consecutive prime numbers. For example 5 = 2 + 3, 17 = 2 + 3 + 5 + 7, 41 = 2 + 3 + 5 + 7 + 11 + 13. Your task is to find out how many prime numbers which satisfy this property are present in the range 3 to N subject to a constraint that summation should always start with number 2.\n",
    "\n",
    "Write code to find out the number of prime numbers that satisfy the above-mentioned property in a given range.\n",
    "\n",
    "input- 20\n",
    "output- 2\n",
    "Explanation- In given rangev there are two prime numbers present whose consicutive sum is also a prime number."
   ]
  },
  {
   "cell_type": "code",
   "execution_count": 22,
   "metadata": {},
   "outputs": [
    {
     "name": "stdout",
     "output_type": "stream",
     "text": [
      "10\n",
      "[2, 3, 5, 7]\n",
      "1\n"
     ]
    }
   ],
   "source": [
    "from math import sqrt\n",
    "n= int(input())\n",
    "l =[]\n",
    "count =0\n",
    "for i in range(2,n):\n",
    "    for j in range(2,int(sqrt(i)+1)):\n",
    "        if(i%j==0):\n",
    "            break\n",
    "    else:\n",
    "        l.append(i)\n",
    "print(l)\n",
    "for i in range(1,len(l)):\n",
    "    sum =0\n",
    "    for j in l:\n",
    "        sum =sum+j\n",
    "        if(sum==l[i]):\n",
    "            count =count+1\n",
    "        if(sum>=l[i]):\n",
    "            break;\n",
    "print(count)\n",
    "\n",
    "   \n",
    "          "
   ]
  },
  {
   "cell_type": "code",
   "execution_count": null,
   "metadata": {},
   "outputs": [],
   "source": []
  },
  {
   "cell_type": "markdown",
   "metadata": {},
   "source": [
    "# Philaland coins "
   ]
  },
  {
   "cell_type": "markdown",
   "metadata": {},
   "source": [
    "Problem Description \n",
    "\n",
    "The problem solvers have found a new Island for coding and named it as Philaland. These smart people were given a task to make the purchase of items at the Island easier by distributing various coins with different values. \n",
    "\n",
    "\n",
    "\n",
    "Manish has come up with a solution that if we make coins category starting from $1 till the maximum price of the item present on Island, then we can purchase any item easily. He added following example to prove his point. Let's suppose the maximum price of an item is 5$ then we can make coins of {$1, $2, $3, $4, $5} to purchase any item ranging from $1 to $5. Now Manisha, being a keen observer suggested that we could actually minimize the number of coins required and gave following distribution {$1, $2, $3}. According to him, any item can be purchased one time ranging from $1 to $5. Everyone was impressed with both of them. Your task is to help Manisha come up with the minimum number of denominations for any arbitrary max price in Philaland. \n",
    "\n",
    "\n",
    "\n",
    "Input Format \n",
    "\n",
    "First line contains an integer T denoting the number of test cases. Next T lines contains an integer N denoting the maximum price of the item present on Philaland. \n",
    "\n",
    "\n",
    "\n",
    "Output Format \n",
    "\n",
    "For each test case print a single line denoting the minimum number of denominations of coins required.\n",
    "\n",
    "\n",
    "\n",
    "Constraints \n",
    "\n",
    "1<=T<=100 \n",
    "\n",
    "1<=N<=5000 \n",
    "\n",
    "\n",
    "\n",
    "Sample Input 1: \n",
    "\n",
    "2 \n",
    "\n",
    "10 \n",
    "\n",
    "5\n",
    "\n",
    "\n",
    "\n",
    "Sample Output 1: \n",
    "\n",
    "4 \n",
    "\n",
    "3\n",
    "\n",
    "\n",
    "\n",
    "Sample Input2: \n",
    "\n",
    "3\n",
    "\n",
    "1\n",
    "\n",
    "5\n",
    "\n",
    "7 \n",
    "\n",
    "\n",
    "\n",
    "Sample Output2: \n",
    "\n",
    "1\n",
    "\n",
    "3\n",
    "\n",
    "3 \n",
    "\n",
    "\n",
    "\n",
    "Explanation: \n",
    "\n",
    "For test case 1, N=10. \n",
    "\n",
    "According to Manish {$1, $2, $3,… $10} must be distributed. But as per Manisha only {$1, $2, $3, $4} coins are enough to purchase any item ranging from $1 to $10. Hence minimum is 4. Likewise denominations could also be {$1, $2, $3, $5}. Hence answer is still 4. \n",
    "\n",
    "\n",
    "\n",
    "For test case 2, N=5. \n",
    "\n",
    "According to Manish {$1, $2, $3, $4, $5} must be distributed. But as per Manisha only {$1, $2, $3} coins are enough to purchase any item ranging from $1 to $5. Hence minimum is 3. Likewise denominations could also be {$1, $2, $4}. Hence answer is still 3."
   ]
  },
  {
   "cell_type": "code",
   "execution_count": 21,
   "metadata": {},
   "outputs": [
    {
     "name": "stdout",
     "output_type": "stream",
     "text": [
      "1\n",
      "5\n",
      "3\n"
     ]
    }
   ],
   "source": [
    "t =int(input())\n",
    "for i in range(t):\n",
    "    n =int(input())\n",
    "    n1 =list(bin(n))\n",
    "print(len(n1[2:]))"
   ]
  },
  {
   "cell_type": "markdown",
   "metadata": {},
   "source": [
    "# Bank Compare"
   ]
  },
  {
   "cell_type": "markdown",
   "metadata": {},
   "source": [
    "\n",
    "\n",
    "\n",
    "There are two banks – Bank A and Bank B. Their interest rates vary. You have received offers from both banks in terms of the annual rate of interest, tenure, and variations of the rate of interest over the entire tenure.You have to choose the offer which costs you least interest and reject the other. Do the computation and make a wise choice.\n",
    "\n",
    "\n",
    "\n",
    "The loan repayment happens at a monthly frequency and Equated Monthly Installment (EMI) is calculated using the formula given below :\n",
    "\n",
    "EMI = loanAmount * monthlyInterestRate / ( 1 – 1 / (1 + monthlyInterestRate)^(numberOfYears * 12))\n",
    "\n",
    "\n",
    "\n",
    "Constraints:\n",
    "\n",
    "\n",
    "\n",
    "1 <= P <= 1000000\n",
    "\n",
    "1 <=T <= 50\n",
    "\n",
    "1<= N1 <= 30\n",
    "\n",
    "1<= N2 <= 30\n",
    "\n",
    "\n",
    "\n",
    "Input Format:\n",
    "\n",
    "\n",
    "\n",
    "First line: P principal (Loan Amount)\n",
    "Second line: T Total Tenure (in years).\n",
    "Third Line: N1 is the number of slabs of interest rates for a given period by Bank A. First slab starts from the first year and the second slab starts from the end of the first slab and so on.\n",
    "Next N1 line will contain the interest rate and their period.\n",
    "After N1 lines we will receive N2 viz. the number of slabs offered by the second bank.\n",
    "Next N2 lines are the number of slabs of interest rates for a given period by Bank B. The first slab starts from the first year and the second slab starts from the end of the first slab and so on.\n",
    "The period and rate will be delimited by single white space.\n",
    "\n",
    "\n",
    "Output Format: Your decision either Bank A or Bank B.\n",
    "\n",
    "\n",
    "\n",
    "Explanation:\n",
    "\n",
    "\n",
    "\n",
    "Example 1\n",
    "\n",
    "Input\n",
    "\n",
    "10000\n",
    "\n",
    "20\n",
    "\n",
    "3\n",
    "\n",
    "5 9.5\n",
    "\n",
    "10 9.6\n",
    "\n",
    "5 8.5\n",
    "\n",
    "3\n",
    "\n",
    "10 6.9\n",
    "\n",
    "5 8.5\n",
    "\n",
    "5 7.9\n",
    "\n",
    "\n",
    "\n",
    "Output: Bank B\n",
    "\n",
    "\n",
    "\n",
    "Example 2\n",
    "\n",
    "Input\n",
    "\n",
    "500000\n",
    "\n",
    "26\n",
    "\n",
    "3\n",
    "\n",
    "13 9.5\n",
    "\n",
    "3 6.9\n",
    "\n",
    "10 5.6\n",
    "\n",
    "3\n",
    "\n",
    "14 8.5\n",
    "\n",
    "6 7.4\n",
    "\n",
    "6 9.6\n",
    "\n",
    "Output: Bank A\n",
    "\n"
   ]
  },
  {
   "cell_type": "code",
   "execution_count": 46,
   "metadata": {},
   "outputs": [
    {
     "name": "stdout",
     "output_type": "stream",
     "text": [
      "50000\n",
      "26\n",
      "3\n",
      "13 9.5\n",
      "3 6.9\n",
      "10 5.6\n",
      "3\n",
      "14 8.5\n",
      "6 7.4\n",
      "6 9.6\n",
      "Bank A\n"
     ]
    }
   ],
   "source": [
    "bank_sum =[]\n",
    "loanAmount =int(input())\n",
    "year =int(input())\n",
    "sum =0\n",
    "for i in range(0,2):\n",
    "    n_slabe =int(input())\n",
    "    for j in range(n_slabe):\n",
    "        n_year,m_rate = map(float,input().split())\n",
    "        m =   1 // (1 + m_rate)\n",
    "        m1 =1-m\n",
    "        denominator =  m1**(int(n_year)* 12)\n",
    "        nominator = loanAmount*m_rate\n",
    "        emi =nominator//denominator\n",
    "        sum =sum+emi\n",
    "    bank_sum.append(sum)\n",
    "if bank_sum[0]<bank_sum[1]:\n",
    "    \n",
    "    print(\"Bank A\")\n",
    "else:\n",
    "    print(\"Bank B\")\n",
    "\n",
    "    "
   ]
  },
  {
   "cell_type": "markdown",
   "metadata": {},
   "source": []
  },
  {
   "cell_type": "markdown",
   "metadata": {},
   "source": [
    "##### 5454"
   ]
  },
  {
   "cell_type": "code",
   "execution_count": null,
   "metadata": {},
   "outputs": [],
   "source": []
  },
  {
   "cell_type": "markdown",
   "metadata": {},
   "source": [
    "# Harshad Number"
   ]
  },
  {
   "cell_type": "markdown",
   "metadata": {},
   "source": [
    "# Harshad number is a number or an integer in base 10 which is completely divisible by sum of  its digits.\n",
    "\n",
    "For better understanding let us consider an example.\n",
    "\n",
    "Example :\n",
    "\n",
    "Suppose a number 24 .\n",
    "Calculate the sum of digits of the number (2 + 4) = 6 .\n",
    "Check whether the number entered by user is completely divisible by sum of its digits or not.\n",
    "Below are first few Harshad Numbers represented in base 10 :\n",
    "\n",
    "1, 2, 3, 4, 5, 6, 7, 8, 9, 10, 12, 18, 20………\n",
    "\n",
    "In this article, we will create a java program to check whether the number entered by the user is Harshad number or not."
   ]
  },
  {
   "cell_type": "code",
   "execution_count": 2,
   "metadata": {},
   "outputs": [
    {
     "name": "stdout",
     "output_type": "stream",
     "text": [
      "Enter a number 11\n",
      "Not harshad number\n"
     ]
    }
   ],
   "source": [
    "n = int(input(\"Enter a number \"))\n",
    "sum =0\n",
    "temp =n\n",
    "while(temp!=0):\n",
    "  \n",
    "    last_pick =temp%10\n",
    "    sum=sum+last_pick\n",
    "    temp=temp//10\n",
    "if(n%sum==0):\n",
    "    print(\"yes number is Harshad number\")\n",
    "else:\n",
    "    print(\"Not harshad number\")\n",
    "        \n",
    "    \n",
    "    \n",
    "\n",
    "\n"
   ]
  },
  {
   "cell_type": "code",
   "execution_count": null,
   "metadata": {},
   "outputs": [],
   "source": []
  },
  {
   "cell_type": "markdown",
   "metadata": {},
   "source": [
    "# Counting Rock Samples Problem"
   ]
  },
  {
   "cell_type": "markdown",
   "metadata": {},
   "source": [
    "# Problem Description\n",
    "Question – : Juan Marquinho is a geologist and he needs to count rock samples in order to send it to a chemical laboratory. He has a problem: The laboratory only accepts rock samples by a range of its size in ppm (parts per million).\n",
    "\n",
    "Juan Marquinho receives the rock samples one by one and he classifies the rock samples according to the range of the laboratory. This process is very hard because the number of rock samples may be in millions.\n",
    "\n",
    "Juan Marquinho needs your help, your task is to develop a program to get the number of rocks in each of the ranges accepted by the laboratory.\n",
    "\n",
    "Input Format: An positive integer S (the number of rock samples) separated by a blank space, and a positive integer R (the number of ranges of the laboratory); A list of the sizes of S samples (in ppm), as positive integers separated by space R lines where the ith line containing two positive integers, space separated, indicating the minimum size and maximum size respectively of the ith range.\n",
    "\n",
    "Output Format: R lines where the ith line contains a single non-negative integer indicating the number of the samples which lie in the ith range.\n",
    "\n",
    "Constraints:\n",
    "\n",
    "10 <= S <= 10000\n",
    "1 <= R <= 1000000\n",
    "1<=size of Sample <= 1000\n",
    "Example 1\n",
    "\n",
    "Input: 10 2\n",
    "345 604 321 433 704 470 808 718 517 811\n",
    "300 350\n",
    "400 700\n",
    "Output: 2 4\n",
    "\n",
    "Explanation:\n",
    "\n",
    "There are 10 samples (S) and 2 ranges ( R ). The samples are 345, 604,811. The ranges are 300-350 and 400-700. There are 2 samples in the first range (345 and 321) and 4 samples in the second range (604, 433, 470, 517). Hence the two lines of the output are 2 and 4\n",
    "\n",
    "Example 2\n",
    "\n",
    "Input: 20 3\n",
    "921 107 270 631 926 543 589 520 595 93 873 424 759 537 458 614 725 842 575 195\n",
    "1 100\n",
    "50 600\n",
    "1 1000\n",
    "Output: 1 12 20\n",
    "\n",
    "Explanation:\n",
    "\n",
    "There are 20 samples and 3 ranges. The samples are 921, 107 195. The ranges are 1-100, 50-600 and 1-1000. Note that the ranges are overlapping. The number of samples in each of the three ranges are 1, 12 and 20 respectively. Hence the three lines of the output are 1, 12 and 20."
   ]
  },
  {
   "cell_type": "code",
   "execution_count": 9,
   "metadata": {},
   "outputs": [
    {
     "name": "stdout",
     "output_type": "stream",
     "text": [
      " 20 3\n",
      "921 107 270 631 926 543 589 520 595 93 873 424 759 537 458 614 725 842 575 195\n",
      "1 100\n",
      "50 600\n",
      "1 1000\n",
      "1 12 20 "
     ]
    }
   ],
   "source": [
    "b =[]\n",
    "count=0\n",
    "s,r =map(int,input().split())\n",
    "l =list(map(int,input().split()))\n",
    "for i in range(0,r):\n",
    "    l_r,h_r =map(int,input().split())\n",
    "    for j in range(len(l)):\n",
    "         if(l[j]>=l_r and l[j]<=h_r):\n",
    "                count+=1\n",
    "    b.append(count)\n",
    "    count =0\n",
    "for i in b:\n",
    "    print(i,end=\" \")\n",
    "        \n",
    "        \n",
    "    "
   ]
  },
  {
   "cell_type": "code",
   "execution_count": null,
   "metadata": {},
   "outputs": [],
   "source": []
  },
  {
   "cell_type": "markdown",
   "metadata": {},
   "source": [
    "# kth largest factor of N"
   ]
  },
  {
   "cell_type": "markdown",
   "metadata": {},
   "source": [
    "Problem Description\n",
    "Question -: A positive integer d is said to be a factor of another positive integer N if when N is divided by d, the remainder obtained is zero. For example, for number 12, there are 6 factors 1, 2, 3, 4, 6, 12. Every positive integer k has at least two factors, 1 and the number k itself.Given two positive integers N and k, write a program to print the kth largest factor of N.\n",
    "\n",
    "Input Format: The input is a comma-separated list of positive integer pairs (N, k).\n",
    "\n",
    "Output Format: The kth highest factor of N. If N does not have k factors, the output should be 1.\n",
    "\n",
    "Constraints:\n",
    "\n",
    "1<N<10000000000\n",
    "1<k<600.\n",
    "You can assume that N will have no prime factors which are larger than 13.\n",
    "\n",
    "Example 1\n",
    "\n",
    "Input: 12,3\n",
    "Output: 4\n",
    "Explanation: N is 12, k is 3. The factors of 12 are (1,2,3,4,6,12). The highest factor is 12 and the third largest factor is 4. The output must be 4.\n",
    "\n",
    "Example 2\n",
    "\n",
    "Input: 30,9\n",
    "Output: 1\n",
    "Explanation: N is 30, k is 9. The factors of 30 are (1,2,3,5,6,10,15,30). There are only 8 factors. As k is more than the number of factors, the output is 1."
   ]
  },
  {
   "cell_type": "code",
   "execution_count": 13,
   "metadata": {},
   "outputs": [
    {
     "name": "stdout",
     "output_type": "stream",
     "text": [
      "12 3\n",
      "4\n"
     ]
    }
   ],
   "source": [
    "n,k =map(int,input().split())\n",
    "count =0\n",
    "factor =[]\n",
    "for i in range(1,n+1):\n",
    "    if(n%i==0):\n",
    "        count+=1\n",
    "        factor.append(i)\n",
    "if(count<k):\n",
    "    print(\"1\")\n",
    "else:\n",
    "    print(factor[k])\n",
    "        "
   ]
  },
  {
   "cell_type": "code",
   "execution_count": null,
   "metadata": {},
   "outputs": [],
   "source": []
  },
  {
   "cell_type": "markdown",
   "metadata": {},
   "source": [
    "# Collecting Candies Problem"
   ]
  },
  {
   "cell_type": "markdown",
   "metadata": {},
   "source": [
    "Question:- Krishna loves candies a lot, so whenever he gets them, he stores them so that he can eat them later whenever he wants to.\n",
    "\n",
    "He has recently received N boxes of candies each containing Ci candies where Ci represents the total number of candies in the ith box. Krishna wants to store them in a single box. The only constraint is that he can choose any two boxes and store their joint contents in an empty box only. Assume that there are an infinite number of empty boxes available.\n",
    "\n",
    "At a time he can pick up any two boxes for transferring and if both the boxes contain X and Y number of candies respectively, then it takes him exactly X+Y seconds of time. As he is too eager to collect all of them he has approached you to tell him the minimum time in which all the candies can be collected.\n",
    "\n",
    "Input Format:\n",
    "\n",
    "The first line of input is the number of test case T\n",
    "Each test case is comprised of two inputs\n",
    "The first input of a test case is the number of boxes N\n",
    "The second input is N integers delimited by whitespace denoting the number of candies in each box\n",
    "Output Format: Print minimum time required, in seconds, for each of the test cases. Print each output on a new line.\n",
    "\n",
    "Constraints:\n",
    "\n",
    "1 < T < 10\n",
    "1 < N< 10000\n",
    "1 < [Candies in each box] < 100009\n",
    "S. No.\tInput\tOutput\n",
    "1\t1\n",
    "4\n",
    "1 2 3 4\t19\n",
    "2\t1\n",
    "5\n",
    "1 2 3 4\t34\n",
    "Explanation for sample input-output 1:\n",
    "\n",
    "4 boxes, each containing 1, 2, 3 and 4 candies respectively.Adding 1 + 2 in a new box takes 3 seconds.Adding 3 + 3 in a new box takes 6 seconds.Adding 4 + 6 in a new box takes 10 seconds.Hence total time taken is 19 seconds. There could be other combinations also, but overall time does not go below 19 seconds.\n",
    "\n",
    "Explanation for sample input-output 2:\n",
    "\n",
    "5 boxes, each containing 1, 2, 3, 4 and 5 candies respectively.Adding 1 + 2 in a new box takes 3 seconds.Adding 3 + 3 in a new box takes 6 seconds.Adding 4 + 6 in a new box takes 10 seconds.Adding 5 + 10 in a new box takes 15 seconds.Hence total time taken is 34 seconds. There could be other combinations also, but overall time does not go below 33 seconds."
   ]
  },
  {
   "cell_type": "code",
   "execution_count": 29,
   "metadata": {},
   "outputs": [
    {
     "name": "stdout",
     "output_type": "stream",
     "text": [
      "1\n",
      "4\n",
      "1\n",
      "2\n",
      "3\n",
      "4\n",
      "19\n"
     ]
    }
   ],
   "source": [
    "a1 =[]\n",
    "sum =0\n",
    "a =[]\n",
    "for _ in range(int(input())):\n",
    "      \n",
    "    n =int(input())\n",
    "    for i in range(0,n):\n",
    "        a.append(int(input()))\n",
    "        \n",
    "         \n",
    "        a.sort()\n",
    "        count =a[0]\n",
    "    for i in range(1,len(a)):\n",
    "        count =count+a[i]\n",
    "        a1.append(count)\n",
    "    for i in a1:\n",
    "        sum =sum+i\n",
    "    print(sum)\n",
    "        \n",
    "        \n",
    "        "
   ]
  },
  {
   "cell_type": "code",
   "execution_count": null,
   "metadata": {},
   "outputs": [],
   "source": []
  },
  {
   "cell_type": "code",
   "execution_count": null,
   "metadata": {},
   "outputs": [],
   "source": []
  }
 ],
 "metadata": {
  "kernelspec": {
   "display_name": "Python 3",
   "language": "python",
   "name": "python3"
  },
  "language_info": {
   "codemirror_mode": {
    "name": "ipython",
    "version": 3
   },
   "file_extension": ".py",
   "mimetype": "text/x-python",
   "name": "python",
   "nbconvert_exporter": "python",
   "pygments_lexer": "ipython3",
   "version": "3.7.3"
  }
 },
 "nbformat": 4,
 "nbformat_minor": 4
}
